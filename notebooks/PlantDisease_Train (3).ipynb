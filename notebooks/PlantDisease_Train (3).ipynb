{
  "cells": [
    {
      "cell_type": "markdown",
      "metadata": {
        "id": "dREw2-7rmscv"
      },
      "source": [
        "# Plant Disease Prediction"
      ]
    },
    {
      "cell_type": "markdown",
      "metadata": {
        "id": "BeB10ZMav-SW"
      },
      "source": [
        "## Importing Dataset"
      ]
    },
    {
      "cell_type": "markdown",
      "metadata": {
        "id": "rPw7by-7Fs5M"
      },
      "source": [
        "Dataset Link: https://www.kaggle.com/datasets/vipoooool/new-plant-diseases-dataset"
      ]
    },
    {
      "cell_type": "markdown",
      "metadata": {
        "id": "5vUbBvinu8zW"
      },
      "source": [
        "## Importing libraries"
      ]
    },
    {
      "cell_type": "code",
      "execution_count": 1,
      "metadata": {
        "id": "4JsejDm3uxTS"
      },
      "outputs": [],
      "source": [
        "import tensorflow as tf\n",
        "from tensorflow.keras import models, utils, optimizers\n",
        "from tensorflow.keras.layers import Conv2D, MaxPool2D, Dropout, Flatten, Dense, BatchNormalization\n",
        "import matplotlib.pyplot as plt\n",
        "import pandas as pd\n",
        "import seaborn as sns\n",
        "import os\n",
        "import json\n",
        "from zipfile import ZipFile\n",
        "from PIL import Image\n"
      ]
    },
    {
      "cell_type": "code",
      "execution_count": 2,
      "metadata": {
        "id": "Vpswsvunmscy"
      },
      "outputs": [],
      "source": [
        "kaggle_credentails = json.load(open(\"kaggle.json\"))\n",
        "\n",
        "os.environ[\"KAGGLE_USERNAME\"] = kaggle_credentails[\"username\"]\n",
        "os.environ[\"KAGGLE_KEY\"] = kaggle_credentails[\"key\"]\n"
      ]
    },
    {
      "cell_type": "code",
      "source": [
        "\n",
        "!kaggle datasets download -d vipoooool/new-plant-diseases-dataset\n"
      ],
      "metadata": {
        "colab": {
          "base_uri": "https://localhost:8080/"
        },
        "id": "nRMfwJW5pfak",
        "outputId": "e594fe00-8276-43fe-dd00-dbd2a245d04e"
      },
      "execution_count": 3,
      "outputs": [
        {
          "output_type": "stream",
          "name": "stdout",
          "text": [
            "Downloading new-plant-diseases-dataset.zip to /content\n",
            " 99% 2.68G/2.70G [00:23<00:00, 146MB/s]\n",
            "100% 2.70G/2.70G [00:23<00:00, 125MB/s]\n"
          ]
        }
      ]
    },
    {
      "cell_type": "code",
      "source": [
        "with ZipFile(\"new-plant-diseases-dataset.zip\", 'r') as zip_ref:\n",
        "    zip_ref.extractall()"
      ],
      "metadata": {
        "id": "PpqG7sgVpiSc"
      },
      "execution_count": 4,
      "outputs": []
    },
    {
      "cell_type": "code",
      "source": [
        "!rm -rf \"new plant diseases dataset(augmented)\""
      ],
      "metadata": {
        "id": "Ze-tt0QA-8YF"
      },
      "execution_count": 5,
      "outputs": []
    },
    {
      "cell_type": "markdown",
      "metadata": {
        "id": "i2w52yYrvTu9"
      },
      "source": [
        "## Data Preprocessing"
      ]
    },
    {
      "cell_type": "markdown",
      "metadata": {
        "id": "vU3NlcKCwlIZ"
      },
      "source": [
        "### Training Image preprocessing"
      ]
    },
    {
      "cell_type": "code",
      "execution_count": 6,
      "metadata": {
        "colab": {
          "base_uri": "https://localhost:8080/"
        },
        "id": "Kjoa0oUHvQAv",
        "outputId": "136bfa8a-9f54-4577-83c5-c6b5c5c58680"
      },
      "outputs": [
        {
          "output_type": "stream",
          "name": "stdout",
          "text": [
            "Found 70295 files belonging to 38 classes.\n"
          ]
        }
      ],
      "source": [
        "training_set = utils.image_dataset_from_directory(\n",
        "    'New Plant Diseases Dataset(Augmented)/New Plant Diseases Dataset(Augmented)/train',\n",
        "    labels=\"inferred\",\n",
        "    label_mode=\"categorical\",\n",
        "    class_names=None,\n",
        "    color_mode=\"rgb\",\n",
        "    batch_size=32,\n",
        "    image_size=(128, 128),\n",
        "    shuffle=True,\n",
        "    seed=None,\n",
        "    validation_split=None,\n",
        "    subset=None,\n",
        "    interpolation=\"bilinear\",\n",
        "    follow_links=False,\n",
        "    crop_to_aspect_ratio=False\n",
        ")\n"
      ]
    },
    {
      "cell_type": "markdown",
      "metadata": {
        "id": "nK9Ev76o0mdJ"
      },
      "source": [
        "### Validation Image Preprocessing"
      ]
    },
    {
      "cell_type": "code",
      "execution_count": 7,
      "metadata": {
        "colab": {
          "base_uri": "https://localhost:8080/"
        },
        "id": "Tocls4IowkNB",
        "outputId": "e4ccca2a-318b-463d-e0c3-02e76355b8cf"
      },
      "outputs": [
        {
          "output_type": "stream",
          "name": "stdout",
          "text": [
            "Found 17572 files belonging to 38 classes.\n"
          ]
        }
      ],
      "source": [
        "validation_set = utils.image_dataset_from_directory(\n",
        "    'New Plant Diseases Dataset(Augmented)/New Plant Diseases Dataset(Augmented)/valid',\n",
        "    labels=\"inferred\",\n",
        "    label_mode=\"categorical\",\n",
        "    class_names=None,\n",
        "    color_mode=\"rgb\",\n",
        "    batch_size=32,\n",
        "    image_size=(128, 128),\n",
        "    shuffle=True,\n",
        "    seed=None,\n",
        "    validation_split=None,\n",
        "    subset=None,\n",
        "    interpolation=\"bilinear\",\n",
        "    follow_links=False,\n",
        "    crop_to_aspect_ratio=False\n",
        ")\n"
      ]
    },
    {
      "cell_type": "markdown",
      "metadata": {
        "id": "FE_6w77gmscz"
      },
      "source": [
        "#### To avoid Overshooting Loss function\n",
        "1. Choose small learning rate default 0.001 here we have taken 0.0001\n",
        "2. There may be chance of underfitting so increase number of neuron\n",
        "3. Add more Convolutional Layer to extract more feature from images there may be possibilty that model unable to capture relevant feature or model is confusing due to lack of feature so feed with more feature"
      ]
    },
    {
      "cell_type": "markdown",
      "metadata": {
        "id": "OQ_TcbD7r2Cw"
      },
      "source": [
        "## Building Model"
      ]
    },
    {
      "cell_type": "code",
      "execution_count": 9,
      "metadata": {
        "id": "cUMiJrPvsBTU"
      },
      "outputs": [],
      "source": [
        "cnn = models.Sequential()\n",
        "\n",
        "cnn.add(Conv2D(filters=32,kernel_size=3,padding='same',activation='relu',input_shape=[128,128,3]))\n",
        "cnn.add(MaxPool2D(pool_size=2,strides=2))\n",
        "cnn.add(Dropout(0.25))\n",
        "\n",
        "cnn.add(Conv2D(filters=64,kernel_size=3,padding='same',activation='relu'))\n",
        "cnn.add(MaxPool2D(pool_size=2,strides=2))\n",
        "\n",
        "cnn.add(Conv2D(filters=128,kernel_size=3,padding='same',activation='relu'))\n",
        "cnn.add(MaxPool2D(pool_size=2,strides=2))\n",
        "\n",
        "cnn.add(Conv2D(filters=256,kernel_size=3,padding='same',activation='relu'))\n",
        "cnn.add(MaxPool2D(pool_size=2,strides=2))\n",
        "\n",
        "cnn.add(Conv2D(filters=512,kernel_size=3,padding='same',activation='relu'))\n",
        "cnn.add(MaxPool2D(pool_size=2,strides=2))\n",
        "cnn.add(Dropout(0.25))\n",
        "\n",
        "cnn.add(Flatten())\n",
        "cnn.add(Dense(units=1500,activation='relu'))\n",
        "cnn.add(Dropout(0.4))\n",
        "\n",
        "cnn.add(Dense(units=38,activation='softmax'))\n"
      ]
    },
    {
      "cell_type": "code",
      "execution_count": 10,
      "metadata": {
        "id": "yAcyiEfVvVzw"
      },
      "outputs": [],
      "source": [
        "cnn.compile(optimizer=optimizers.Adam(\n",
        "    learning_rate=0.0001),loss='categorical_crossentropy',metrics=['accuracy'])\n"
      ]
    },
    {
      "cell_type": "code",
      "execution_count": 11,
      "metadata": {
        "colab": {
          "base_uri": "https://localhost:8080/"
        },
        "id": "X0MROJsdlC5Z",
        "outputId": "ed620c7e-25a9-4699-a411-7adb0e7b7611"
      },
      "outputs": [
        {
          "output_type": "stream",
          "name": "stdout",
          "text": [
            "Model: \"sequential_1\"\n",
            "_________________________________________________________________\n",
            " Layer (type)                Output Shape              Param #   \n",
            "=================================================================\n",
            " conv2d_5 (Conv2D)           (None, 128, 128, 32)      896       \n",
            "                                                                 \n",
            " max_pooling2d_5 (MaxPoolin  (None, 64, 64, 32)        0         \n",
            " g2D)                                                            \n",
            "                                                                 \n",
            " dropout_3 (Dropout)         (None, 64, 64, 32)        0         \n",
            "                                                                 \n",
            " conv2d_6 (Conv2D)           (None, 64, 64, 64)        18496     \n",
            "                                                                 \n",
            " max_pooling2d_6 (MaxPoolin  (None, 32, 32, 64)        0         \n",
            " g2D)                                                            \n",
            "                                                                 \n",
            " conv2d_7 (Conv2D)           (None, 32, 32, 128)       73856     \n",
            "                                                                 \n",
            " max_pooling2d_7 (MaxPoolin  (None, 16, 16, 128)       0         \n",
            " g2D)                                                            \n",
            "                                                                 \n",
            " conv2d_8 (Conv2D)           (None, 16, 16, 256)       295168    \n",
            "                                                                 \n",
            " max_pooling2d_8 (MaxPoolin  (None, 8, 8, 256)         0         \n",
            " g2D)                                                            \n",
            "                                                                 \n",
            " conv2d_9 (Conv2D)           (None, 8, 8, 512)         1180160   \n",
            "                                                                 \n",
            " max_pooling2d_9 (MaxPoolin  (None, 4, 4, 512)         0         \n",
            " g2D)                                                            \n",
            "                                                                 \n",
            " dropout_4 (Dropout)         (None, 4, 4, 512)         0         \n",
            "                                                                 \n",
            " flatten_1 (Flatten)         (None, 8192)              0         \n",
            "                                                                 \n",
            " dense_1 (Dense)             (None, 1500)              12289500  \n",
            "                                                                 \n",
            " dropout_5 (Dropout)         (None, 1500)              0         \n",
            "                                                                 \n",
            " dense_2 (Dense)             (None, 38)                57038     \n",
            "                                                                 \n",
            "=================================================================\n",
            "Total params: 13915114 (53.08 MB)\n",
            "Trainable params: 13915114 (53.08 MB)\n",
            "Non-trainable params: 0 (0.00 Byte)\n",
            "_________________________________________________________________\n"
          ]
        }
      ],
      "source": [
        "cnn.summary()\n"
      ]
    },
    {
      "cell_type": "code",
      "execution_count": 12,
      "metadata": {
        "colab": {
          "base_uri": "https://localhost:8080/"
        },
        "id": "K3W4dNUrvxIw",
        "outputId": "791668b0-b229-4bc3-d8c8-f7380732e7c1"
      },
      "outputs": [
        {
          "output_type": "stream",
          "name": "stdout",
          "text": [
            "Epoch 1/10\n",
            "2197/2197 [==============================] - 99s 42ms/step - loss: 1.9326 - accuracy: 0.5121 - val_loss: 1.2898 - val_accuracy: 0.6276\n",
            "Epoch 2/10\n",
            "2197/2197 [==============================] - 91s 41ms/step - loss: 0.6249 - accuracy: 0.8052 - val_loss: 0.7692 - val_accuracy: 0.7729\n",
            "Epoch 3/10\n",
            "2197/2197 [==============================] - 90s 41ms/step - loss: 0.3765 - accuracy: 0.8795 - val_loss: 0.4656 - val_accuracy: 0.8592\n",
            "Epoch 4/10\n",
            "2197/2197 [==============================] - 90s 41ms/step - loss: 0.2527 - accuracy: 0.9187 - val_loss: 0.4535 - val_accuracy: 0.8583\n",
            "Epoch 5/10\n",
            "2197/2197 [==============================] - 90s 41ms/step - loss: 0.1809 - accuracy: 0.9403 - val_loss: 0.2034 - val_accuracy: 0.9366\n",
            "Epoch 6/10\n",
            "2197/2197 [==============================] - 91s 41ms/step - loss: 0.1358 - accuracy: 0.9550 - val_loss: 0.2103 - val_accuracy: 0.9328\n",
            "Epoch 7/10\n",
            "2197/2197 [==============================] - 92s 42ms/step - loss: 0.1088 - accuracy: 0.9645 - val_loss: 0.1662 - val_accuracy: 0.9479\n",
            "Epoch 8/10\n",
            "2197/2197 [==============================] - 91s 41ms/step - loss: 0.0883 - accuracy: 0.9710 - val_loss: 0.2233 - val_accuracy: 0.9293\n",
            "Epoch 9/10\n",
            "2197/2197 [==============================] - 90s 41ms/step - loss: 0.0741 - accuracy: 0.9752 - val_loss: 0.2056 - val_accuracy: 0.9371\n",
            "Epoch 10/10\n",
            "2197/2197 [==============================] - 92s 42ms/step - loss: 0.0650 - accuracy: 0.9782 - val_loss: 0.1569 - val_accuracy: 0.9528\n"
          ]
        }
      ],
      "source": [
        "training_history = cnn.fit(x=training_set,validation_data=validation_set,epochs=10)\n"
      ]
    },
    {
      "cell_type": "markdown",
      "metadata": {
        "id": "19E3mwj1phoW"
      },
      "source": [
        "## Evaluating Model"
      ]
    },
    {
      "cell_type": "code",
      "execution_count": 13,
      "metadata": {
        "id": "iY6o3uxjpgl5",
        "colab": {
          "base_uri": "https://localhost:8080/"
        },
        "outputId": "fd6ce9c5-2c86-4ac6-e44d-ce249bee5718"
      },
      "outputs": [
        {
          "output_type": "stream",
          "name": "stdout",
          "text": [
            "2197/2197 [==============================] - 49s 22ms/step - loss: 0.0532 - accuracy: 0.9822\n",
            "Training accuracy: 0.9822462201118469\n"
          ]
        }
      ],
      "source": [
        "#Training set Accuracy\n",
        "train_loss, train_acc = cnn.evaluate(training_set)\n",
        "print('Training accuracy:', train_acc)\n"
      ]
    },
    {
      "cell_type": "code",
      "execution_count": 14,
      "metadata": {
        "id": "5SaQgd7bpgwl",
        "colab": {
          "base_uri": "https://localhost:8080/"
        },
        "outputId": "98855146-efcd-473d-9eaf-b29076c8386f"
      },
      "outputs": [
        {
          "output_type": "stream",
          "name": "stdout",
          "text": [
            "550/550 [==============================] - 12s 22ms/step - loss: 0.1569 - accuracy: 0.9528\n",
            "Validation accuracy: 0.9527657628059387\n"
          ]
        }
      ],
      "source": [
        "#Validation set Accuracy\n",
        "val_loss, val_acc = cnn.evaluate(validation_set)\n",
        "print('Validation accuracy:', val_acc)\n"
      ]
    },
    {
      "cell_type": "markdown",
      "metadata": {
        "id": "Qxp0xsjVBGec"
      },
      "source": [
        "### Saving Model"
      ]
    },
    {
      "cell_type": "code",
      "execution_count": 15,
      "metadata": {
        "id": "EEUrBzCrxKt_"
      },
      "outputs": [],
      "source": [
        "cnn.save('trained_plant_disease_model.keras')\n"
      ]
    },
    {
      "cell_type": "code",
      "execution_count": 16,
      "metadata": {
        "id": "BM-sILNMBwh1",
        "colab": {
          "base_uri": "https://localhost:8080/"
        },
        "outputId": "b193380b-0cd2-485f-ce7c-ae756a3344df"
      },
      "outputs": [
        {
          "output_type": "execute_result",
          "data": {
            "text/plain": [
              "{'loss': [1.932617425918579,\n",
              "  0.6249479055404663,\n",
              "  0.37646985054016113,\n",
              "  0.2527078688144684,\n",
              "  0.1808670163154602,\n",
              "  0.1357809454202652,\n",
              "  0.10878543555736542,\n",
              "  0.08830919116735458,\n",
              "  0.07410304993391037,\n",
              "  0.06496761739253998],\n",
              " 'accuracy': [0.5121132135391235,\n",
              "  0.8052066564559937,\n",
              "  0.8794508576393127,\n",
              "  0.9186713099479675,\n",
              "  0.9402944445610046,\n",
              "  0.9549754858016968,\n",
              "  0.9644924998283386,\n",
              "  0.9710078835487366,\n",
              "  0.9752471446990967,\n",
              "  0.9781919121742249],\n",
              " 'val_loss': [1.2897530794143677,\n",
              "  0.7691639065742493,\n",
              "  0.46556195616722107,\n",
              "  0.45345988869667053,\n",
              "  0.2034042328596115,\n",
              "  0.21034377813339233,\n",
              "  0.16619883477687836,\n",
              "  0.2232997715473175,\n",
              "  0.20560522377490997,\n",
              "  0.15687136352062225],\n",
              " 'val_accuracy': [0.627646267414093,\n",
              "  0.7728772759437561,\n",
              "  0.8591509461402893,\n",
              "  0.8582972884178162,\n",
              "  0.9366036653518677,\n",
              "  0.9327908158302307,\n",
              "  0.9479285478591919,\n",
              "  0.9292624592781067,\n",
              "  0.9371158480644226,\n",
              "  0.9527657628059387]}"
            ]
          },
          "metadata": {},
          "execution_count": 16
        }
      ],
      "source": [
        "training_history.history #Return Dictionary of history\n"
      ]
    },
    {
      "cell_type": "code",
      "execution_count": 17,
      "metadata": {
        "id": "GdF3Ig4ZBU9V"
      },
      "outputs": [],
      "source": [
        "#Recording History in json\n",
        "import json\n",
        "with open('training_hist.json','w') as f:\n",
        "  json.dump(training_history.history,f)\n"
      ]
    },
    {
      "cell_type": "code",
      "execution_count": 18,
      "metadata": {
        "id": "w8PnAYbuCNhu",
        "colab": {
          "base_uri": "https://localhost:8080/"
        },
        "outputId": "8ac7d1c9-ce8c-4621-f6f6-0c51d0454a2c"
      },
      "outputs": [
        {
          "output_type": "stream",
          "name": "stdout",
          "text": [
            "dict_keys(['loss', 'accuracy', 'val_loss', 'val_accuracy'])\n"
          ]
        }
      ],
      "source": [
        "print(training_history.history.keys())\n"
      ]
    },
    {
      "cell_type": "markdown",
      "metadata": {
        "id": "qNIMPXKFEZ5B"
      },
      "source": [
        "## Accuracy Visualization"
      ]
    },
    {
      "cell_type": "code",
      "execution_count": 19,
      "metadata": {
        "id": "gfKdieuJCt3m",
        "colab": {
          "base_uri": "https://localhost:8080/",
          "height": 472
        },
        "outputId": "6c714510-b6a6-49f0-ebf2-a4ccfa49c13c"
      },
      "outputs": [
        {
          "output_type": "display_data",
          "data": {
            "text/plain": [
              "<Figure size 640x480 with 1 Axes>"
            ],
            "image/png": "[encoded data removed]"
          },
          "metadata": {}
        }
      ],
      "source": [
        "epochs = [i for i in range(1,11)]\n",
        "plt.plot(epochs,training_history.history['accuracy'],color='red',label='Training Accuracy')\n",
        "plt.plot(epochs,training_history.history['val_accuracy'],color='blue',label='Validation Accuracy')\n",
        "plt.xlabel('No. of Epochs')\n",
        "plt.title('Visualization of Accuracy Result')\n",
        "plt.legend()\n",
        "plt.show()\n"
      ]
    },
    {
      "cell_type": "code",
      "execution_count": 19,
      "metadata": {
        "id": "MmHXzT0PAiOn"
      },
      "outputs": [],
      "source": []
    },
    {
      "cell_type": "markdown",
      "metadata": {
        "id": "tqSTPMZXmsc5"
      },
      "source": [
        "## Some other metrics for model evaluation"
      ]
    },
    {
      "cell_type": "code",
      "execution_count": 20,
      "metadata": {
        "id": "TRFezv3Nmsc5"
      },
      "outputs": [],
      "source": [
        "class_name = validation_set.class_names\n"
      ]
    },
    {
      "cell_type": "code",
      "source": [
        "len(class_name)"
      ],
      "metadata": {
        "id": "UPikQKKzywFx",
        "colab": {
          "base_uri": "https://localhost:8080/"
        },
        "outputId": "cfc66de7-8bc0-4400-dbd3-ca7336a43f35"
      },
      "execution_count": 21,
      "outputs": [
        {
          "output_type": "execute_result",
          "data": {
            "text/plain": [
              "38"
            ]
          },
          "metadata": {},
          "execution_count": 21
        }
      ]
    },
    {
      "cell_type": "code",
      "source": [
        "!pwd"
      ],
      "metadata": {
        "id": "uCX4-3_CwXqz",
        "colab": {
          "base_uri": "https://localhost:8080/"
        },
        "outputId": "7b20115d-0314-4e85-8fde-c882f9409919"
      },
      "execution_count": 22,
      "outputs": [
        {
          "output_type": "stream",
          "name": "stdout",
          "text": [
            "/content\n"
          ]
        }
      ]
    },
    {
      "cell_type": "code",
      "execution_count": 23,
      "metadata": {
        "id": "dfFIBpqamsc5",
        "colab": {
          "base_uri": "https://localhost:8080/"
        },
        "outputId": "e6f36746-1501-4eb3-d817-1f09e097d154"
      },
      "outputs": [
        {
          "output_type": "stream",
          "name": "stdout",
          "text": [
            "Found 33 files belonging to 1 classes.\n"
          ]
        }
      ],
      "source": [
        "test_set = utils.image_dataset_from_directory(\n",
        "    'test',\n",
        "    labels=\"inferred\",\n",
        "    label_mode=\"categorical\",\n",
        "    class_names=None,\n",
        "    color_mode=\"rgb\",\n",
        "    batch_size=1,\n",
        "    image_size=(128, 128),\n",
        "    shuffle=False,\n",
        "    seed=None,\n",
        "    validation_split=None,\n",
        "    subset=None,\n",
        "    interpolation=\"bilinear\",\n",
        "    follow_links=False,\n",
        "    crop_to_aspect_ratio=False\n",
        ")\n"
      ]
    },
    {
      "cell_type": "code",
      "execution_count": 23,
      "metadata": {
        "id": "wDZjIdG_msc5"
      },
      "outputs": [],
      "source": []
    },
    {
      "cell_type": "code",
      "execution_count": 24,
      "metadata": {
        "id": "Em4gHRRImsc5",
        "colab": {
          "base_uri": "https://localhost:8080/"
        },
        "outputId": "afe2cebf-e657-460c-c5a0-1c4fd77475b9"
      },
      "outputs": [
        {
          "output_type": "stream",
          "name": "stdout",
          "text": [
            "33/33 [==============================] - 1s 2ms/step\n"
          ]
        }
      ],
      "source": [
        "y_pred = cnn.predict(test_set)\n",
        "predicted_categories = tf.argmax(y_pred, axis=1)\n"
      ]
    },
    {
      "cell_type": "code",
      "execution_count": 25,
      "metadata": {
        "id": "KCL61NHHmsc6"
      },
      "outputs": [],
      "source": [
        "true_categories = tf.concat([y for x, y in test_set], axis=0)\n",
        "Y_true = tf.argmax(true_categories, axis=1)\n"
      ]
    },
    {
      "cell_type": "code",
      "execution_count": 26,
      "metadata": {
        "id": "UdwYVLM-msc6",
        "colab": {
          "base_uri": "https://localhost:8080/"
        },
        "outputId": "e253cb3e-f05c-4c38-afc9-07490121d3f6"
      },
      "outputs": [
        {
          "output_type": "execute_result",
          "data": {
            "text/plain": [
              "<tf.Tensor: shape=(33,), dtype=int64, numpy=\n",
              "array([0, 0, 0, 0, 0, 0, 0, 0, 0, 0, 0, 0, 0, 0, 0, 0, 0, 0, 0, 0, 0, 0,\n",
              "       0, 0, 0, 0, 0, 0, 0, 0, 0, 0, 0])>"
            ]
          },
          "metadata": {},
          "execution_count": 26
        }
      ],
      "source": [
        "Y_true\n"
      ]
    },
    {
      "cell_type": "code",
      "execution_count": 27,
      "metadata": {
        "id": "FtI0wQfLmsc6",
        "colab": {
          "base_uri": "https://localhost:8080/"
        },
        "outputId": "62e62e14-5748-4e43-8e43-97b603a1d188"
      },
      "outputs": [
        {
          "output_type": "execute_result",
          "data": {
            "text/plain": [
              "<tf.Tensor: shape=(33,), dtype=int64, numpy=\n",
              "array([ 2,  2,  2,  2,  0,  3,  7,  8,  8,  8, 20, 20, 20, 20, 20, 22, 22,\n",
              "       29, 29, 29, 29, 29, 34, 37, 37, 37, 37, 35, 35, 35, 35, 35, 35])>"
            ]
          },
          "metadata": {},
          "execution_count": 27
        }
      ],
      "source": [
        "predicted_categories\n"
      ]
    },
    {
      "cell_type": "code",
      "execution_count": 27,
      "metadata": {
        "id": "iy6SWGlNmsc6"
      },
      "outputs": [],
      "source": []
    },
    {
      "cell_type": "code",
      "execution_count": 28,
      "metadata": {
        "id": "m7j5gcSGmsc6"
      },
      "outputs": [],
      "source": [
        "from sklearn.metrics import confusion_matrix,classification_report\n",
        "cm = confusion_matrix(Y_true,predicted_categories)\n"
      ]
    },
    {
      "source": [
        "len(Y_true)"
      ],
      "cell_type": "code",
      "metadata": {
        "id": "ZkiPaEfhw6S7",
        "colab": {
          "base_uri": "https://localhost:8080/"
        },
        "outputId": "024bfb90-5a13-466c-ae83-8e241069fcbb"
      },
      "execution_count": 29,
      "outputs": [
        {
          "output_type": "execute_result",
          "data": {
            "text/plain": [
              "33"
            ]
          },
          "metadata": {},
          "execution_count": 29
        }
      ]
    },
    {
      "cell_type": "code",
      "source": [
        "len(predicted_categories)"
      ],
      "metadata": {
        "id": "Ilg6kPHZxJXU",
        "colab": {
          "base_uri": "https://localhost:8080/"
        },
        "outputId": "dee3f999-2eae-4d78-9c94-b2f81bdc02aa"
      },
      "execution_count": 30,
      "outputs": [
        {
          "output_type": "execute_result",
          "data": {
            "text/plain": [
              "33"
            ]
          },
          "metadata": {},
          "execution_count": 30
        }
      ]
    },
    {
      "cell_type": "code",
      "execution_count": 31,
      "metadata": {
        "id": "s0Nv0BhXmsc6"
      },
      "outputs": [],
      "source": [
        "# # Precision Recall Fscore\n",
        "# print(classification_report(Y_true,predicted_categories,target_names=class_name))\n"
      ]
    },
    {
      "cell_type": "markdown",
      "metadata": {
        "id": "aiET_fKdmsc7"
      },
      "source": [
        "### Confusion Matrix Visualization"
      ]
    },
    {
      "cell_type": "code",
      "execution_count": 32,
      "metadata": {
        "id": "i21EGsO4msc7",
        "colab": {
          "base_uri": "https://localhost:8080/",
          "height": 1000
        },
        "outputId": "c4ed06c3-80d3-451b-8013-5531596a4d85"
      },
      "outputs": [
        {
          "output_type": "display_data",
          "data": {
            "text/plain": [
              "<Figure size 4000x4000 with 2 Axes>"
            ],
            "image/png": "[encoded data removed]"
          },
          "metadata": {}
        }
      ],
      "source": [
        "plt.figure(figsize=(40, 40))\n",
        "sns.heatmap(cm,annot=True,annot_kws={\"size\": 10})\n",
        "\n",
        "plt.xlabel('Predicted Class',fontsize = 20)\n",
        "plt.ylabel('Actual Class',fontsize = 20)\n",
        "plt.title('Plant Disease Prediction Confusion Matrix',fontsize = 25)\n",
        "plt.show()\n"
      ]
    },
    {
      "cell_type": "code",
      "execution_count": 32,
      "metadata": {
        "id": "EYeMux3dmsc7"
      },
      "outputs": [],
      "source": []
    }
  ],
  "metadata": {
    "colab": {
      "provenance": [],
      "gpuType": "T4"
    },
    "kernelspec": {
      "display_name": "Python 3",
      "name": "python3"
    },
    "language_info": {
      "codemirror_mode": {
        "name": "ipython",
        "version": 3
      },
      "file_extension": ".py",
      "mimetype": "text/x-python",
      "name": "python",
      "nbconvert_exporter": "python",
      "pygments_lexer": "ipython3",
      "version": "3.11.8"
    },
    "accelerator": "GPU"
  },
  "nbformat": 4,
  "nbformat_minor": 0
}