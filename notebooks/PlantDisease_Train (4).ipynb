{
  "cells": [
    {
      "cell_type": "markdown",
      "metadata": {
        "id": "dREw2-7rmscv"
      },
      "source": [
        "# Plant Disease Prediction"
      ]
    },
    {
      "cell_type": "markdown",
      "metadata": {
        "id": "BeB10ZMav-SW"
      },
      "source": [
        "## Importing Dataset"
      ]
    },
    {
      "cell_type": "markdown",
      "metadata": {
        "id": "rPw7by-7Fs5M"
      },
      "source": [
        "Dataset Link: https://www.kaggle.com/datasets/vipoooool/new-plant-diseases-dataset"
      ]
    },
    {
      "cell_type": "markdown",
      "metadata": {
        "id": "5vUbBvinu8zW"
      },
      "source": [
        "## Importing libraries"
      ]
    },
    {
      "cell_type": "code",
      "execution_count": 1,
      "metadata": {
        "id": "4JsejDm3uxTS"
      },
      "outputs": [],
      "source": [
        "import tensorflow as tf\n",
        "from tensorflow.keras import models, utils, optimizers\n",
        "from tensorflow.keras.layers import Conv2D, MaxPool2D, Dropout, Flatten, Dense, BatchNormalization\n",
        "import matplotlib.pyplot as plt\n",
        "import pandas as pd\n",
        "import seaborn as sns\n",
        "import os\n",
        "import json\n",
        "from zipfile import ZipFile\n",
        "from PIL import Image\n"
      ]
    },
    {
      "cell_type": "code",
      "execution_count": 2,
      "metadata": {
        "id": "Vpswsvunmscy"
      },
      "outputs": [],
      "source": [
        "kaggle_credentails = json.load(open(\"kaggle.json\"))\n",
        "\n",
        "os.environ[\"KAGGLE_USERNAME\"] = kaggle_credentails[\"username\"]\n",
        "os.environ[\"KAGGLE_KEY\"] = kaggle_credentails[\"key\"]\n"
      ]
    },
    {
      "cell_type": "code",
      "source": [
        "\n",
        "!kaggle datasets download -d vipoooool/new-plant-diseases-dataset\n"
      ],
      "metadata": {
        "colab": {
          "base_uri": "https://localhost:8080/"
        },
        "id": "nRMfwJW5pfak",
        "outputId": "bfa5d705-05fb-4398-c1b2-7bb0f1d22c6c"
      },
      "execution_count": 3,
      "outputs": [
        {
          "output_type": "stream",
          "name": "stdout",
          "text": [
            "Downloading new-plant-diseases-dataset.zip to /content\n",
            "100% 2.69G/2.70G [00:20<00:00, 220MB/s]\n",
            "100% 2.70G/2.70G [00:20<00:00, 143MB/s]\n"
          ]
        }
      ]
    },
    {
      "cell_type": "code",
      "source": [
        "with ZipFile(\"new-plant-diseases-dataset.zip\", 'r') as zip_ref:\n",
        "    zip_ref.extractall()"
      ],
      "metadata": {
        "id": "PpqG7sgVpiSc"
      },
      "execution_count": 4,
      "outputs": []
    },
    {
      "cell_type": "code",
      "source": [
        "!rm -rf \"new plant diseases dataset(augmented)\""
      ],
      "metadata": {
        "id": "Ze-tt0QA-8YF"
      },
      "execution_count": 5,
      "outputs": []
    },
    {
      "cell_type": "markdown",
      "metadata": {
        "id": "i2w52yYrvTu9"
      },
      "source": [
        "## Data Preprocessing"
      ]
    },
    {
      "cell_type": "markdown",
      "metadata": {
        "id": "vU3NlcKCwlIZ"
      },
      "source": [
        "### Training Image preprocessing"
      ]
    },
    {
      "cell_type": "code",
      "execution_count": 6,
      "metadata": {
        "colab": {
          "base_uri": "https://localhost:8080/"
        },
        "id": "Kjoa0oUHvQAv",
        "outputId": "52a3486e-80ab-4289-ab57-dff2e8d9e63e"
      },
      "outputs": [
        {
          "output_type": "stream",
          "name": "stdout",
          "text": [
            "Found 70295 files belonging to 38 classes.\n"
          ]
        }
      ],
      "source": [
        "training_set = utils.image_dataset_from_directory(\n",
        "    'New Plant Diseases Dataset(Augmented)/New Plant Diseases Dataset(Augmented)/train',\n",
        "    labels=\"inferred\",\n",
        "    label_mode=\"categorical\",\n",
        "    class_names=None,\n",
        "    color_mode=\"rgb\",\n",
        "    batch_size=32,\n",
        "    image_size=(128, 128),\n",
        "    shuffle=True,\n",
        "    seed=None,\n",
        "    validation_split=None,\n",
        "    subset=None,\n",
        "    interpolation=\"bilinear\",\n",
        "    follow_links=False,\n",
        "    crop_to_aspect_ratio=False\n",
        ")\n"
      ]
    },
    {
      "cell_type": "markdown",
      "metadata": {
        "id": "nK9Ev76o0mdJ"
      },
      "source": [
        "### Validation Image Preprocessing"
      ]
    },
    {
      "cell_type": "code",
      "execution_count": 7,
      "metadata": {
        "colab": {
          "base_uri": "https://localhost:8080/"
        },
        "id": "Tocls4IowkNB",
        "outputId": "aef6e510-80c5-4f66-a841-3715ac0ea63c"
      },
      "outputs": [
        {
          "output_type": "stream",
          "name": "stdout",
          "text": [
            "Found 17572 files belonging to 38 classes.\n"
          ]
        }
      ],
      "source": [
        "validation_set = utils.image_dataset_from_directory(\n",
        "    'New Plant Diseases Dataset(Augmented)/New Plant Diseases Dataset(Augmented)/valid',\n",
        "    labels=\"inferred\",\n",
        "    label_mode=\"categorical\",\n",
        "    class_names=None,\n",
        "    color_mode=\"rgb\",\n",
        "    batch_size=32,\n",
        "    image_size=(128, 128),\n",
        "    shuffle=True,\n",
        "    seed=None,\n",
        "    validation_split=None,\n",
        "    subset=None,\n",
        "    interpolation=\"bilinear\",\n",
        "    follow_links=False,\n",
        "    crop_to_aspect_ratio=False\n",
        ")\n"
      ]
    },
    {
      "cell_type": "markdown",
      "metadata": {
        "id": "FE_6w77gmscz"
      },
      "source": [
        "#### To avoid Overshooting Loss function\n",
        "1. Choose small learning rate default 0.001 here we have taken 0.0001\n",
        "2. There may be chance of underfitting so increase number of neuron\n",
        "3. Add more Convolutional Layer to extract more feature from images there may be possibilty that model unable to capture relevant feature or model is confusing due to lack of feature so feed with more feature"
      ]
    },
    {
      "cell_type": "markdown",
      "metadata": {
        "id": "OQ_TcbD7r2Cw"
      },
      "source": [
        "## Building Model"
      ]
    },
    {
      "cell_type": "code",
      "execution_count": 8,
      "metadata": {
        "id": "cUMiJrPvsBTU"
      },
      "outputs": [],
      "source": [
        "cnn = models.Sequential()\n",
        "\n",
        "cnn.add(Conv2D(filters=32,kernel_size=3,padding='same',activation='relu',input_shape=[128,128,3]))\n",
        "cnn.add(MaxPool2D(pool_size=2,strides=2))\n",
        "cnn.add(Dropout(0.25))\n",
        "\n",
        "cnn.add(Conv2D(filters=64,kernel_size=3,padding='same',activation='relu'))\n",
        "cnn.add(MaxPool2D(pool_size=2,strides=2))\n",
        "\n",
        "cnn.add(Conv2D(filters=64,kernel_size=3,padding='same',activation='relu'))\n",
        "cnn.add(MaxPool2D(pool_size=2,strides=2))\n",
        "cnn.add(Dropout(0.25))\n",
        "\n",
        "cnn.add(Conv2D(filters=64,kernel_size=3,padding='same',activation='relu'))\n",
        "cnn.add(MaxPool2D(pool_size=2,strides=2))\n",
        "\n",
        "cnn.add(Conv2D(filters=64,kernel_size=3,padding='same',activation='relu'))\n",
        "cnn.add(MaxPool2D(pool_size=2,strides=2))\n",
        "cnn.add(Dropout(0.25))\n",
        "\n",
        "cnn.add(Flatten())\n",
        "cnn.add(Dense(units=1500,activation='relu'))\n",
        "cnn.add(Dropout(0.4))\n",
        "\n",
        "cnn.add(Dense(units=38,activation='softmax'))\n"
      ]
    },
    {
      "cell_type": "code",
      "execution_count": 9,
      "metadata": {
        "id": "yAcyiEfVvVzw"
      },
      "outputs": [],
      "source": [
        "cnn.compile(optimizer=optimizers.Adam(\n",
        "    learning_rate=0.0001),loss='categorical_crossentropy',metrics=['accuracy'])\n"
      ]
    },
    {
      "cell_type": "code",
      "execution_count": 10,
      "metadata": {
        "colab": {
          "base_uri": "https://localhost:8080/"
        },
        "id": "X0MROJsdlC5Z",
        "outputId": "c6b3112f-678d-41aa-df30-4ca5e00493cd"
      },
      "outputs": [
        {
          "output_type": "stream",
          "name": "stdout",
          "text": [
            "Model: \"sequential\"\n",
            "_________________________________________________________________\n",
            " Layer (type)                Output Shape              Param #   \n",
            "=================================================================\n",
            " conv2d (Conv2D)             (None, 128, 128, 32)      896       \n",
            "                                                                 \n",
            " max_pooling2d (MaxPooling2  (None, 64, 64, 32)        0         \n",
            " D)                                                              \n",
            "                                                                 \n",
            " dropout (Dropout)           (None, 64, 64, 32)        0         \n",
            "                                                                 \n",
            " conv2d_1 (Conv2D)           (None, 64, 64, 64)        18496     \n",
            "                                                                 \n",
            " max_pooling2d_1 (MaxPoolin  (None, 32, 32, 64)        0         \n",
            " g2D)                                                            \n",
            "                                                                 \n",
            " conv2d_2 (Conv2D)           (None, 32, 32, 64)        36928     \n",
            "                                                                 \n",
            " max_pooling2d_2 (MaxPoolin  (None, 16, 16, 64)        0         \n",
            " g2D)                                                            \n",
            "                                                                 \n",
            " dropout_1 (Dropout)         (None, 16, 16, 64)        0         \n",
            "                                                                 \n",
            " conv2d_3 (Conv2D)           (None, 16, 16, 64)        36928     \n",
            "                                                                 \n",
            " max_pooling2d_3 (MaxPoolin  (None, 8, 8, 64)          0         \n",
            " g2D)                                                            \n",
            "                                                                 \n",
            " conv2d_4 (Conv2D)           (None, 8, 8, 64)          36928     \n",
            "                                                                 \n",
            " max_pooling2d_4 (MaxPoolin  (None, 4, 4, 64)          0         \n",
            " g2D)                                                            \n",
            "                                                                 \n",
            " dropout_2 (Dropout)         (None, 4, 4, 64)          0         \n",
            "                                                                 \n",
            " flatten (Flatten)           (None, 1024)              0         \n",
            "                                                                 \n",
            " dense (Dense)               (None, 1500)              1537500   \n",
            "                                                                 \n",
            " dropout_3 (Dropout)         (None, 1500)              0         \n",
            "                                                                 \n",
            " dense_1 (Dense)             (None, 38)                57038     \n",
            "                                                                 \n",
            "=================================================================\n",
            "Total params: 1724714 (6.58 MB)\n",
            "Trainable params: 1724714 (6.58 MB)\n",
            "Non-trainable params: 0 (0.00 Byte)\n",
            "_________________________________________________________________\n"
          ]
        }
      ],
      "source": [
        "cnn.summary()\n"
      ]
    },
    {
      "cell_type": "code",
      "execution_count": 11,
      "metadata": {
        "colab": {
          "base_uri": "https://localhost:8080/"
        },
        "id": "K3W4dNUrvxIw",
        "outputId": "3e16668f-76e3-4651-9d90-38d8ea5c8e12"
      },
      "outputs": [
        {
          "output_type": "stream",
          "name": "stdout",
          "text": [
            "Epoch 1/10\n",
            "2197/2197 [==============================] - 81s 33ms/step - loss: 2.8311 - accuracy: 0.2960 - val_loss: 1.5792 - val_accuracy: 0.5639\n",
            "Epoch 2/10\n",
            "2197/2197 [==============================] - 72s 33ms/step - loss: 1.1974 - accuracy: 0.6356 - val_loss: 0.8045 - val_accuracy: 0.7812\n",
            "Epoch 3/10\n",
            "2197/2197 [==============================] - 72s 33ms/step - loss: 0.7842 - accuracy: 0.7565 - val_loss: 0.6112 - val_accuracy: 0.8238\n",
            "Epoch 4/10\n",
            "2197/2197 [==============================] - 72s 33ms/step - loss: 0.5619 - accuracy: 0.8230 - val_loss: 0.5071 - val_accuracy: 0.8438\n",
            "Epoch 5/10\n",
            "2197/2197 [==============================] - 72s 33ms/step - loss: 0.4356 - accuracy: 0.8590 - val_loss: 0.3831 - val_accuracy: 0.8830\n",
            "Epoch 6/10\n",
            "2197/2197 [==============================] - 82s 37ms/step - loss: 0.3478 - accuracy: 0.8874 - val_loss: 0.2675 - val_accuracy: 0.9187\n",
            "Epoch 7/10\n",
            "2197/2197 [==============================] - 72s 33ms/step - loss: 0.2858 - accuracy: 0.9069 - val_loss: 0.2174 - val_accuracy: 0.9352\n",
            "Epoch 8/10\n",
            "2197/2197 [==============================] - 72s 33ms/step - loss: 0.2471 - accuracy: 0.9184 - val_loss: 0.2164 - val_accuracy: 0.9342\n",
            "Epoch 9/10\n",
            "2197/2197 [==============================] - 72s 33ms/step - loss: 0.2101 - accuracy: 0.9301 - val_loss: 0.1965 - val_accuracy: 0.9369\n",
            "Epoch 10/10\n",
            "2197/2197 [==============================] - 72s 33ms/step - loss: 0.1900 - accuracy: 0.9363 - val_loss: 0.1549 - val_accuracy: 0.9510\n"
          ]
        }
      ],
      "source": [
        "training_history = cnn.fit(x=training_set,validation_data=validation_set,epochs=10)\n"
      ]
    },
    {
      "cell_type": "markdown",
      "metadata": {
        "id": "19E3mwj1phoW"
      },
      "source": [
        "## Evaluating Model"
      ]
    },
    {
      "cell_type": "code",
      "execution_count": 12,
      "metadata": {
        "id": "iY6o3uxjpgl5",
        "colab": {
          "base_uri": "https://localhost:8080/"
        },
        "outputId": "e5cc94cc-f6cb-4dd8-e363-b730fdd12ee7"
      },
      "outputs": [
        {
          "output_type": "stream",
          "name": "stdout",
          "text": [
            "2197/2197 [==============================] - 45s 20ms/step - loss: 0.0951 - accuracy: 0.9724\n",
            "Training accuracy: 0.9723593592643738\n"
          ]
        }
      ],
      "source": [
        "#Training set Accuracy\n",
        "train_loss, train_acc = cnn.evaluate(training_set)\n",
        "print('Training accuracy:', train_acc)\n"
      ]
    },
    {
      "cell_type": "code",
      "execution_count": 13,
      "metadata": {
        "id": "5SaQgd7bpgwl",
        "colab": {
          "base_uri": "https://localhost:8080/"
        },
        "outputId": "c464bb4c-6404-441a-c860-874deb54786d"
      },
      "outputs": [
        {
          "output_type": "stream",
          "name": "stdout",
          "text": [
            "550/550 [==============================] - 11s 20ms/step - loss: 0.1549 - accuracy: 0.9510\n",
            "Validation accuracy: 0.9510015845298767\n"
          ]
        }
      ],
      "source": [
        "#Validation set Accuracy\n",
        "val_loss, val_acc = cnn.evaluate(validation_set)\n",
        "print('Validation accuracy:', val_acc)\n"
      ]
    },
    {
      "cell_type": "markdown",
      "metadata": {
        "id": "Qxp0xsjVBGec"
      },
      "source": [
        "### Saving Model"
      ]
    },
    {
      "cell_type": "code",
      "execution_count": 14,
      "metadata": {
        "id": "EEUrBzCrxKt_",
        "colab": {
          "base_uri": "https://localhost:8080/"
        },
        "outputId": "d63a0432-f48c-4094-c983-6c7ccfe60453"
      },
      "outputs": [
        {
          "output_type": "stream",
          "name": "stderr",
          "text": [
            "/usr/local/lib/python3.10/dist-packages/keras/src/engine/training.py:3103: UserWarning: You are saving your model as an HDF5 file via `model.save()`. This file format is considered legacy. We recommend using instead the native Keras format, e.g. `model.save('my_model.keras')`.\n",
            "  saving_api.save_model(\n"
          ]
        }
      ],
      "source": [
        "cnn.save('trained_plant_disease_model.h5')\n"
      ]
    },
    {
      "cell_type": "code",
      "execution_count": 15,
      "metadata": {
        "id": "BM-sILNMBwh1",
        "colab": {
          "base_uri": "https://localhost:8080/"
        },
        "outputId": "fc82ec24-ac2c-4f0c-d5a7-7e7472c605de"
      },
      "outputs": [
        {
          "output_type": "execute_result",
          "data": {
            "text/plain": [
              "{'loss': [2.8310649394989014,\n",
              "  1.1974401473999023,\n",
              "  0.7842183709144592,\n",
              "  0.5619216561317444,\n",
              "  0.4356393814086914,\n",
              "  0.3477517366409302,\n",
              "  0.2857711613178253,\n",
              "  0.24713903665542603,\n",
              "  0.21012598276138306,\n",
              "  0.1899762898683548],\n",
              " 'accuracy': [0.2959669828414917,\n",
              "  0.6356497406959534,\n",
              "  0.7565260529518127,\n",
              "  0.8229746222496033,\n",
              "  0.8589515686035156,\n",
              "  0.8874173164367676,\n",
              "  0.9068781733512878,\n",
              "  0.9183868169784546,\n",
              "  0.9300661683082581,\n",
              "  0.9362685680389404],\n",
              " 'val_loss': [1.5791698694229126,\n",
              "  0.8044934868812561,\n",
              "  0.6112463474273682,\n",
              "  0.5071452856063843,\n",
              "  0.3831169903278351,\n",
              "  0.2675135135650635,\n",
              "  0.2174033522605896,\n",
              "  0.21638569235801697,\n",
              "  0.1965310275554657,\n",
              "  0.15493232011795044],\n",
              " 'val_accuracy': [0.5639085173606873,\n",
              "  0.7812429070472717,\n",
              "  0.8238106369972229,\n",
              "  0.8438425064086914,\n",
              "  0.8829956650733948,\n",
              "  0.9187343716621399,\n",
              "  0.9352378845214844,\n",
              "  0.934156596660614,\n",
              "  0.9369451403617859,\n",
              "  0.9510015845298767]}"
            ]
          },
          "metadata": {},
          "execution_count": 15
        }
      ],
      "source": [
        "training_history.history #Return Dictionary of history\n"
      ]
    },
    {
      "cell_type": "code",
      "execution_count": 16,
      "metadata": {
        "id": "GdF3Ig4ZBU9V"
      },
      "outputs": [],
      "source": [
        "#Recording History in json\n",
        "import json\n",
        "with open('training_hist.json','w') as f:\n",
        "  json.dump(training_history.history,f)\n"
      ]
    },
    {
      "cell_type": "code",
      "execution_count": 17,
      "metadata": {
        "id": "w8PnAYbuCNhu",
        "colab": {
          "base_uri": "https://localhost:8080/"
        },
        "outputId": "55c518d7-14c9-4547-affd-990a4fdf04b7"
      },
      "outputs": [
        {
          "output_type": "stream",
          "name": "stdout",
          "text": [
            "dict_keys(['loss', 'accuracy', 'val_loss', 'val_accuracy'])\n"
          ]
        }
      ],
      "source": [
        "print(training_history.history.keys())\n"
      ]
    },
    {
      "cell_type": "markdown",
      "metadata": {
        "id": "qNIMPXKFEZ5B"
      },
      "source": [
        "## Accuracy Visualization"
      ]
    },
    {
      "cell_type": "code",
      "execution_count": 18,
      "metadata": {
        "id": "gfKdieuJCt3m",
        "colab": {
          "base_uri": "https://localhost:8080/",
          "height": 472
        },
        "outputId": "a178a9bb-9b2b-4f38-b02c-39da030d640f"
      },
      "outputs": [
        {
          "output_type": "display_data",
          "data": {
            "text/plain": [
              "<Figure size 640x480 with 1 Axes>"
            ],
            "image/png": "[encoded data removed]"
          },
          "metadata": {}
        }
      ],
      "source": [
        "epochs = [i for i in range(1,11)]\n",
        "plt.plot(epochs,training_history.history['accuracy'],color='red',label='Training Accuracy')\n",
        "plt.plot(epochs,training_history.history['val_accuracy'],color='blue',label='Validation Accuracy')\n",
        "plt.xlabel('No. of Epochs')\n",
        "plt.title('Visualization of Accuracy Result')\n",
        "plt.legend()\n",
        "plt.show()\n"
      ]
    },
    {
      "cell_type": "code",
      "execution_count": 18,
      "metadata": {
        "id": "MmHXzT0PAiOn"
      },
      "outputs": [],
      "source": []
    },
    {
      "cell_type": "markdown",
      "metadata": {
        "id": "tqSTPMZXmsc5"
      },
      "source": [
        "## Some other metrics for model evaluation"
      ]
    },
    {
      "cell_type": "code",
      "execution_count": 19,
      "metadata": {
        "id": "TRFezv3Nmsc5"
      },
      "outputs": [],
      "source": [
        "class_name = validation_set.class_names\n"
      ]
    },
    {
      "cell_type": "code",
      "source": [
        "len(class_name)"
      ],
      "metadata": {
        "id": "UPikQKKzywFx",
        "colab": {
          "base_uri": "https://localhost:8080/"
        },
        "outputId": "1c50c3e4-196d-4c66-a19f-2e9244ad23a4"
      },
      "execution_count": 20,
      "outputs": [
        {
          "output_type": "execute_result",
          "data": {
            "text/plain": [
              "38"
            ]
          },
          "metadata": {},
          "execution_count": 20
        }
      ]
    },
    {
      "cell_type": "code",
      "source": [
        "!pwd"
      ],
      "metadata": {
        "id": "uCX4-3_CwXqz",
        "colab": {
          "base_uri": "https://localhost:8080/"
        },
        "outputId": "3f364f1f-b1ff-49aa-cf77-dc42aa055509"
      },
      "execution_count": 21,
      "outputs": [
        {
          "output_type": "stream",
          "name": "stdout",
          "text": [
            "/content\n"
          ]
        }
      ]
    },
    {
      "cell_type": "code",
      "execution_count": 22,
      "metadata": {
        "id": "dfFIBpqamsc5",
        "colab": {
          "base_uri": "https://localhost:8080/"
        },
        "outputId": "0007eae2-15a1-4059-e174-d1b9b3490997"
      },
      "outputs": [
        {
          "output_type": "stream",
          "name": "stdout",
          "text": [
            "Found 33 files belonging to 1 classes.\n"
          ]
        }
      ],
      "source": [
        "test_set = utils.image_dataset_from_directory(\n",
        "    'test',\n",
        "    labels=\"inferred\",\n",
        "    label_mode=\"categorical\",\n",
        "    class_names=None,\n",
        "    color_mode=\"rgb\",\n",
        "    batch_size=1,\n",
        "    image_size=(128, 128),\n",
        "    shuffle=False,\n",
        "    seed=None,\n",
        "    validation_split=None,\n",
        "    subset=None,\n",
        "    interpolation=\"bilinear\",\n",
        "    follow_links=False,\n",
        "    crop_to_aspect_ratio=False\n",
        ")\n"
      ]
    },
    {
      "cell_type": "code",
      "execution_count": 22,
      "metadata": {
        "id": "wDZjIdG_msc5"
      },
      "outputs": [],
      "source": []
    },
    {
      "cell_type": "code",
      "execution_count": 23,
      "metadata": {
        "id": "Em4gHRRImsc5",
        "colab": {
          "base_uri": "https://localhost:8080/"
        },
        "outputId": "4b624287-b795-4e03-c0f6-326df26c30ec"
      },
      "outputs": [
        {
          "output_type": "stream",
          "name": "stdout",
          "text": [
            "33/33 [==============================] - 1s 2ms/step\n"
          ]
        }
      ],
      "source": [
        "y_pred = cnn.predict(test_set)\n",
        "predicted_categories = tf.argmax(y_pred, axis=1)\n"
      ]
    },
    {
      "cell_type": "code",
      "execution_count": 24,
      "metadata": {
        "id": "KCL61NHHmsc6"
      },
      "outputs": [],
      "source": [
        "true_categories = tf.concat([y for x, y in test_set], axis=0)\n",
        "Y_true = tf.argmax(true_categories, axis=1)\n"
      ]
    },
    {
      "cell_type": "code",
      "execution_count": 25,
      "metadata": {
        "id": "UdwYVLM-msc6",
        "colab": {
          "base_uri": "https://localhost:8080/"
        },
        "outputId": "64898dfb-d29b-4ffd-e3c3-6767cc3fe410"
      },
      "outputs": [
        {
          "output_type": "execute_result",
          "data": {
            "text/plain": [
              "<tf.Tensor: shape=(33,), dtype=int64, numpy=\n",
              "array([0, 0, 0, 0, 0, 0, 0, 0, 0, 0, 0, 0, 0, 0, 0, 0, 0, 0, 0, 0, 0, 0,\n",
              "       0, 0, 0, 0, 0, 0, 0, 0, 0, 0, 0])>"
            ]
          },
          "metadata": {},
          "execution_count": 25
        }
      ],
      "source": [
        "Y_true\n"
      ]
    },
    {
      "cell_type": "code",
      "execution_count": 26,
      "metadata": {
        "id": "FtI0wQfLmsc6",
        "colab": {
          "base_uri": "https://localhost:8080/"
        },
        "outputId": "78738edf-582f-4f96-b0ff-2fcd90f4d58c"
      },
      "outputs": [
        {
          "output_type": "execute_result",
          "data": {
            "text/plain": [
              "<tf.Tensor: shape=(33,), dtype=int64, numpy=\n",
              "array([ 2, 28,  2, 28, 15,  3,  7,  8,  8,  8, 20, 20,  3, 20, 20, 22, 22,\n",
              "       29, 30, 29, 29, 29, 29, 37, 37, 37, 37, 35, 35, 35, 35, 35, 35])>"
            ]
          },
          "metadata": {},
          "execution_count": 26
        }
      ],
      "source": [
        "predicted_categories\n"
      ]
    },
    {
      "cell_type": "code",
      "execution_count": 26,
      "metadata": {
        "id": "iy6SWGlNmsc6"
      },
      "outputs": [],
      "source": []
    },
    {
      "cell_type": "code",
      "execution_count": 27,
      "metadata": {
        "id": "m7j5gcSGmsc6"
      },
      "outputs": [],
      "source": [
        "from sklearn.metrics import confusion_matrix,classification_report\n",
        "cm = confusion_matrix(Y_true,predicted_categories)\n"
      ]
    },
    {
      "source": [
        "len(Y_true)"
      ],
      "cell_type": "code",
      "metadata": {
        "id": "ZkiPaEfhw6S7",
        "colab": {
          "base_uri": "https://localhost:8080/"
        },
        "outputId": "7684f9e3-6eae-469f-f9a6-422f14ec64f1"
      },
      "execution_count": 28,
      "outputs": [
        {
          "output_type": "execute_result",
          "data": {
            "text/plain": [
              "33"
            ]
          },
          "metadata": {},
          "execution_count": 28
        }
      ]
    },
    {
      "cell_type": "code",
      "source": [
        "len(predicted_categories)"
      ],
      "metadata": {
        "id": "Ilg6kPHZxJXU",
        "colab": {
          "base_uri": "https://localhost:8080/"
        },
        "outputId": "08e325dd-2bde-49e8-d642-aade9c535384"
      },
      "execution_count": 29,
      "outputs": [
        {
          "output_type": "execute_result",
          "data": {
            "text/plain": [
              "33"
            ]
          },
          "metadata": {},
          "execution_count": 29
        }
      ]
    },
    {
      "cell_type": "code",
      "execution_count": 30,
      "metadata": {
        "id": "s0Nv0BhXmsc6"
      },
      "outputs": [],
      "source": [
        "# # Precision Recall Fscore\n",
        "# print(classification_report(Y_true,predicted_categories,target_names=class_name))\n"
      ]
    },
    {
      "cell_type": "markdown",
      "metadata": {
        "id": "aiET_fKdmsc7"
      },
      "source": [
        "### Confusion Matrix Visualization"
      ]
    },
    {
      "cell_type": "code",
      "execution_count": 31,
      "metadata": {
        "id": "i21EGsO4msc7",
        "colab": {
          "base_uri": "https://localhost:8080/",
          "height": 1000
        },
        "outputId": "80604a83-a54d-4b0d-e3ad-a0c0e144abdd"
      },
      "outputs": [
        {
          "output_type": "display_data",
          "data": {
            "text/plain": [
              "<Figure size 4000x4000 with 2 Axes>"
            ],
            "image/png": "[encoded data removed]"
          },
          "metadata": {}
        }
      ],
      "source": [
        "plt.figure(figsize=(40, 40))\n",
        "sns.heatmap(cm,annot=True,annot_kws={\"size\": 10})\n",
        "\n",
        "plt.xlabel('Predicted Class',fontsize = 20)\n",
        "plt.ylabel('Actual Class',fontsize = 20)\n",
        "plt.title('Plant Disease Prediction Confusion Matrix',fontsize = 25)\n",
        "plt.show()\n"
      ]
    },
    {
      "cell_type": "code",
      "execution_count": 31,
      "metadata": {
        "id": "EYeMux3dmsc7"
      },
      "outputs": [],
      "source": []
    }
  ],
  "metadata": {
    "colab": {
      "provenance": [],
      "gpuType": "T4"
    },
    "kernelspec": {
      "display_name": "Python 3",
      "name": "python3"
    },
    "language_info": {
      "codemirror_mode": {
        "name": "ipython",
        "version": 3
      },
      "file_extension": ".py",
      "mimetype": "text/x-python",
      "name": "python",
      "nbconvert_exporter": "python",
      "pygments_lexer": "ipython3",
      "version": "3.11.8"
    },
    "accelerator": "GPU"
  },
  "nbformat": 4,
  "nbformat_minor": 0
}