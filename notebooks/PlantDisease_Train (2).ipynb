{
  "cells": [
    {
      "cell_type": "markdown",
      "metadata": {
        "id": "dREw2-7rmscv"
      },
      "source": [
        "# Plant Disease Prediction"
      ]
    },
    {
      "cell_type": "markdown",
      "metadata": {
        "id": "BeB10ZMav-SW"
      },
      "source": [
        "## Importing Dataset"
      ]
    },
    {
      "cell_type": "markdown",
      "metadata": {
        "id": "rPw7by-7Fs5M"
      },
      "source": [
        "Dataset Link: https://www.kaggle.com/datasets/vipoooool/new-plant-diseases-dataset"
      ]
    },
    {
      "cell_type": "markdown",
      "metadata": {
        "id": "5vUbBvinu8zW"
      },
      "source": [
        "## Importing libraries"
      ]
    },
    {
      "cell_type": "code",
      "execution_count": 3,
      "metadata": {
        "id": "4JsejDm3uxTS"
      },
      "outputs": [],
      "source": [
        "import tensorflow as tf\n",
        "from tensorflow.keras import layers, models, utils, optimizers\n",
        "import matplotlib.pyplot as plt\n",
        "import pandas as pd\n",
        "import seaborn as sns\n",
        "import os\n",
        "import json\n",
        "from zipfile import ZipFile\n",
        "from PIL import Image\n"
      ]
    },
    {
      "cell_type": "code",
      "execution_count": 4,
      "metadata": {
        "id": "Vpswsvunmscy"
      },
      "outputs": [],
      "source": [
        "kaggle_credentails = json.load(open(\"kaggle.json\"))\n",
        "\n",
        "os.environ[\"KAGGLE_USERNAME\"] = kaggle_credentails[\"username\"]\n",
        "os.environ[\"KAGGLE_KEY\"] = kaggle_credentails[\"key\"]\n"
      ]
    },
    {
      "cell_type": "code",
      "execution_count": 5,
      "metadata": {
        "colab": {
          "base_uri": "https://localhost:8080/"
        },
        "id": "nRMfwJW5pfak",
        "outputId": "a6506957-828a-4bf3-896d-32c70079bded"
      },
      "outputs": [
        {
          "name": "stdout",
          "output_type": "stream",
          "text": [
            "Downloading new-plant-diseases-dataset.zip to /content\n",
            " 99% 2.68G/2.70G [00:23<00:00, 263MB/s]\n",
            "100% 2.70G/2.70G [00:24<00:00, 121MB/s]\n"
          ]
        }
      ],
      "source": [
        "\n",
        "!kaggle datasets download -d vipoooool/new-plant-diseases-dataset\n"
      ]
    },
    {
      "cell_type": "code",
      "execution_count": 6,
      "metadata": {
        "id": "PpqG7sgVpiSc"
      },
      "outputs": [],
      "source": [
        "\n",
        "with ZipFile(\"new-plant-diseases-dataset.zip\", 'r') as zip_ref:\n",
        "    zip_ref.extractall()\n"
      ]
    },
    {
      "cell_type": "code",
      "execution_count": 7,
      "metadata": {
        "id": "Ze-tt0QA-8YF"
      },
      "outputs": [],
      "source": [
        "!rm -rf \"new plant diseases dataset(augmented)\"\n"
      ]
    },
    {
      "cell_type": "markdown",
      "metadata": {
        "id": "i2w52yYrvTu9"
      },
      "source": [
        "## Data Preprocessing"
      ]
    },
    {
      "cell_type": "markdown",
      "metadata": {
        "id": "vU3NlcKCwlIZ"
      },
      "source": [
        "### Training Image preprocessing"
      ]
    },
    {
      "cell_type": "code",
      "execution_count": 8,
      "metadata": {
        "colab": {
          "base_uri": "https://localhost:8080/"
        },
        "id": "Kjoa0oUHvQAv",
        "outputId": "fcfcd3b1-c8b2-4f23-d067-2d7be1d753fc"
      },
      "outputs": [
        {
          "name": "stdout",
          "output_type": "stream",
          "text": [
            "Found 70295 files belonging to 38 classes.\n"
          ]
        }
      ],
      "source": [
        "training_set = utils.image_dataset_from_directory(\n",
        "    'New Plant Diseases Dataset(Augmented)/New Plant Diseases Dataset(Augmented)/train',\n",
        "    labels=\"inferred\",\n",
        "    label_mode=\"categorical\",\n",
        "    class_names=None,\n",
        "    color_mode=\"rgb\",\n",
        "    batch_size=32,\n",
        "    image_size=(128, 128),\n",
        "    shuffle=True,\n",
        "    seed=None,\n",
        "    validation_split=None,\n",
        "    subset=None,\n",
        "    interpolation=\"bilinear\",\n",
        "    follow_links=False,\n",
        "    crop_to_aspect_ratio=False\n",
        ")\n"
      ]
    },
    {
      "cell_type": "markdown",
      "metadata": {
        "id": "nK9Ev76o0mdJ"
      },
      "source": [
        "### Validation Image Preprocessing"
      ]
    },
    {
      "cell_type": "code",
      "execution_count": 9,
      "metadata": {
        "colab": {
          "base_uri": "https://localhost:8080/"
        },
        "id": "Tocls4IowkNB",
        "outputId": "a4aa3372-409b-441a-e6ee-df9db250ee31"
      },
      "outputs": [
        {
          "name": "stdout",
          "output_type": "stream",
          "text": [
            "Found 17572 files belonging to 38 classes.\n"
          ]
        }
      ],
      "source": [
        "validation_set = utils.image_dataset_from_directory(\n",
        "    'New Plant Diseases Dataset(Augmented)/New Plant Diseases Dataset(Augmented)/valid',\n",
        "    labels=\"inferred\",\n",
        "    label_mode=\"categorical\",\n",
        "    class_names=None,\n",
        "    color_mode=\"rgb\",\n",
        "    batch_size=32,\n",
        "    image_size=(128, 128),\n",
        "    shuffle=True,\n",
        "    seed=None,\n",
        "    validation_split=None,\n",
        "    subset=None,\n",
        "    interpolation=\"bilinear\",\n",
        "    follow_links=False,\n",
        "    crop_to_aspect_ratio=False\n",
        ")\n"
      ]
    },
    {
      "cell_type": "markdown",
      "metadata": {
        "id": "FE_6w77gmscz"
      },
      "source": [
        "#### To avoid Overshooting Loss function\n",
        "1. Choose small learning rate default 0.001 here we have taken 0.0001\n",
        "2. There may be chance of underfitting so increase number of neuron\n",
        "3. Add more Convolutional Layer to extract more feature from images there may be possibilty that model unable to capture relevant feature or model is confusing due to lack of feature so feed with more feature"
      ]
    },
    {
      "cell_type": "markdown",
      "metadata": {
        "id": "OQ_TcbD7r2Cw"
      },
      "source": [
        "## Building Model"
      ]
    },
    {
      "cell_type": "code",
      "execution_count": 34,
      "metadata": {
        "id": "cUMiJrPvsBTU"
      },
      "outputs": [],
      "source": [
        "cnn = models.Sequential()\n",
        "\n",
        "cnn.add(layers.Conv2D(filters=32,kernel_size=3,padding='same',activation='relu',input_shape=[128,128,3]))\n",
        "cnn.add(layers.MaxPool2D(pool_size=2,strides=2))\n",
        "cnn.add(layers.Dropout(0.25))\n",
        "\n",
        "cnn.add(layers.Conv2D(filters=64,kernel_size=3,padding='same',activation='relu'))\n",
        "cnn.add(layers.MaxPool2D(pool_size=2,strides=2))\n",
        "\n",
        "cnn.add(layers.Conv2D(filters=64,kernel_size=3,padding='same',activation='relu'))\n",
        "cnn.add(layers.MaxPool2D(pool_size=2,strides=2))\n",
        "cnn.add(layers.Dropout(0.25))\n",
        "\n",
        "cnn.add(layers.Conv2D(filters=64,kernel_size=3,padding='same',activation='relu'))\n",
        "cnn.add(layers.MaxPool2D(pool_size=2,strides=2))\n",
        "\n",
        "cnn.add(layers.Conv2D(filters=64,kernel_size=3,padding='same',activation='relu'))\n",
        "cnn.add(layers.MaxPool2D(pool_size=2,strides=2))\n",
        "cnn.add(layers.Dropout(0.25))\n",
        "\n",
        "cnn.add(layers.Flatten())\n",
        "cnn.add(layers.Dense(units=1500,activation='relu'))\n",
        "cnn.add(layers.Dropout(0.4))\n",
        "\n",
        "cnn.add(layers.Dense(units=38,activation='softmax'))\n",
        "\n",
        "\n"
      ]
    },
    {
      "cell_type": "code",
      "execution_count": 35,
      "metadata": {
        "id": "yAcyiEfVvVzw"
      },
      "outputs": [],
      "source": [
        "cnn.compile(optimizer=optimizers.Adam(\n",
        "    learning_rate=0.0001),loss='categorical_crossentropy',metrics=['accuracy'])\n"
      ]
    },
    {
      "cell_type": "code",
      "execution_count": 36,
      "metadata": {
        "colab": {
          "base_uri": "https://localhost:8080/"
        },
        "id": "X0MROJsdlC5Z",
        "outputId": "ff02e80c-2063-4319-c5cf-cec44ce0e615"
      },
      "outputs": [
        {
          "name": "stdout",
          "output_type": "stream",
          "text": [
            "Model: \"sequential_1\"\n",
            "_________________________________________________________________\n",
            " Layer (type)                Output Shape              Param #   \n",
            "=================================================================\n",
            " conv2d_5 (Conv2D)           (None, 128, 128, 32)      896       \n",
            "                                                                 \n",
            " max_pooling2d_5 (MaxPoolin  (None, 64, 64, 32)        0         \n",
            " g2D)                                                            \n",
            "                                                                 \n",
            " dropout_2 (Dropout)         (None, 64, 64, 32)        0         \n",
            "                                                                 \n",
            " conv2d_6 (Conv2D)           (None, 64, 64, 64)        18496     \n",
            "                                                                 \n",
            " max_pooling2d_6 (MaxPoolin  (None, 32, 32, 64)        0         \n",
            " g2D)                                                            \n",
            "                                                                 \n",
            " conv2d_7 (Conv2D)           (None, 32, 32, 64)        36928     \n",
            "                                                                 \n",
            " max_pooling2d_7 (MaxPoolin  (None, 16, 16, 64)        0         \n",
            " g2D)                                                            \n",
            "                                                                 \n",
            " dropout_3 (Dropout)         (None, 16, 16, 64)        0         \n",
            "                                                                 \n",
            " conv2d_8 (Conv2D)           (None, 16, 16, 64)        36928     \n",
            "                                                                 \n",
            " max_pooling2d_8 (MaxPoolin  (None, 8, 8, 64)          0         \n",
            " g2D)                                                            \n",
            "                                                                 \n",
            " conv2d_9 (Conv2D)           (None, 8, 8, 64)          36928     \n",
            "                                                                 \n",
            " max_pooling2d_9 (MaxPoolin  (None, 4, 4, 64)          0         \n",
            " g2D)                                                            \n",
            "                                                                 \n",
            " dropout_4 (Dropout)         (None, 4, 4, 64)          0         \n",
            "                                                                 \n",
            " flatten_1 (Flatten)         (None, 1024)              0         \n",
            "                                                                 \n",
            " dense_2 (Dense)             (None, 1500)              1537500   \n",
            "                                                                 \n",
            " dropout_5 (Dropout)         (None, 1500)              0         \n",
            "                                                                 \n",
            " dense_3 (Dense)             (None, 38)                57038     \n",
            "                                                                 \n",
            "=================================================================\n",
            "Total params: 1724714 (6.58 MB)\n",
            "Trainable params: 1724714 (6.58 MB)\n",
            "Non-trainable params: 0 (0.00 Byte)\n",
            "_________________________________________________________________\n"
          ]
        }
      ],
      "source": [
        "cnn.summary()\n"
      ]
    },
    {
      "cell_type": "code",
      "execution_count": 37,
      "metadata": {
        "colab": {
          "base_uri": "https://localhost:8080/"
        },
        "id": "K3W4dNUrvxIw",
        "outputId": "9b0c1225-45e9-4afd-ae15-e988e596f063"
      },
      "outputs": [
        {
          "name": "stdout",
          "output_type": "stream",
          "text": [
            "Epoch 1/10\n",
            "2197/2197 [==============================] - 81s 35ms/step - loss: 4.0490 - accuracy: 0.1272 - val_loss: 2.6164 - val_accuracy: 0.3040\n",
            "Epoch 2/10\n",
            "2197/2197 [==============================] - 86s 39ms/step - loss: 1.6083 - accuracy: 0.5197 - val_loss: 1.2552 - val_accuracy: 0.6637\n",
            "Epoch 3/10\n",
            "2197/2197 [==============================] - 86s 39ms/step - loss: 1.0214 - accuracy: 0.6855 - val_loss: 0.9142 - val_accuracy: 0.7351\n",
            "Epoch 4/10\n",
            "2197/2197 [==============================] - 78s 35ms/step - loss: 0.7173 - accuracy: 0.7764 - val_loss: 0.6833 - val_accuracy: 0.7947\n",
            "Epoch 5/10\n",
            "2197/2197 [==============================] - 78s 35ms/step - loss: 0.5372 - accuracy: 0.8306 - val_loss: 0.4939 - val_accuracy: 0.8489\n",
            "Epoch 6/10\n",
            "2197/2197 [==============================] - 77s 35ms/step - loss: 0.4207 - accuracy: 0.8649 - val_loss: 0.4380 - val_accuracy: 0.8655\n",
            "Epoch 7/10\n",
            "2197/2197 [==============================] - 77s 35ms/step - loss: 0.3435 - accuracy: 0.8891 - val_loss: 0.2676 - val_accuracy: 0.9194\n",
            "Epoch 8/10\n",
            "2197/2197 [==============================] - 76s 35ms/step - loss: 0.2896 - accuracy: 0.9048 - val_loss: 0.2453 - val_accuracy: 0.9244\n",
            "Epoch 9/10\n",
            "2197/2197 [==============================] - 80s 36ms/step - loss: 0.2459 - accuracy: 0.9180 - val_loss: 0.2399 - val_accuracy: 0.9231\n",
            "Epoch 10/10\n",
            "2197/2197 [==============================] - 75s 34ms/step - loss: 0.2248 - accuracy: 0.9260 - val_loss: 0.2190 - val_accuracy: 0.9277\n"
          ]
        }
      ],
      "source": [
        "training_history = cnn.fit(x=training_set,validation_data=validation_set,epochs=10)\n"
      ]
    },
    {
      "cell_type": "markdown",
      "metadata": {
        "id": "19E3mwj1phoW"
      },
      "source": [
        "## Evaluating Model"
      ]
    },
    {
      "cell_type": "code",
      "execution_count": 58,
      "metadata": {
        "colab": {
          "base_uri": "https://localhost:8080/"
        },
        "id": "iY6o3uxjpgl5",
        "outputId": "d813edb6-778d-4fa3-bc17-34ee9536fa3c"
      },
      "outputs": [
        {
          "name": "stdout",
          "output_type": "stream",
          "text": [
            "2197/2197 [==============================] - 46s 21ms/step - loss: 0.1530 - accuracy: 0.9528\n",
            "Training accuracy: 0.952770471572876\n"
          ]
        }
      ],
      "source": [
        "#Training set Accuracy\n",
        "train_loss, train_acc = cnn.evaluate(training_set)\n",
        "print('Training accuracy:', train_acc)\n"
      ]
    },
    {
      "cell_type": "code",
      "execution_count": 59,
      "metadata": {
        "colab": {
          "base_uri": "https://localhost:8080/"
        },
        "id": "5SaQgd7bpgwl",
        "outputId": "4f897eea-596c-47a7-bfe5-33252aaab45a"
      },
      "outputs": [
        {
          "name": "stdout",
          "output_type": "stream",
          "text": [
            "550/550 [==============================] - 12s 21ms/step - loss: 0.2190 - accuracy: 0.9277\n",
            "Validation accuracy: 0.9276690483093262\n"
          ]
        }
      ],
      "source": [
        "#Validation set Accuracy\n",
        "val_loss, val_acc = cnn.evaluate(validation_set)\n",
        "print('Validation accuracy:', val_acc)\n"
      ]
    },
    {
      "cell_type": "markdown",
      "metadata": {
        "id": "Qxp0xsjVBGec"
      },
      "source": [
        "### Saving Model"
      ]
    },
    {
      "cell_type": "code",
      "execution_count": 60,
      "metadata": {
        "id": "EEUrBzCrxKt_"
      },
      "outputs": [],
      "source": [
        "cnn.save('trained_plant_disease_model.keras')\n"
      ]
    },
    {
      "cell_type": "code",
      "execution_count": 61,
      "metadata": {
        "colab": {
          "base_uri": "https://localhost:8080/"
        },
        "id": "BM-sILNMBwh1",
        "outputId": "133e16b3-7198-41d2-d383-56b5c7f9dc22"
      },
      "outputs": [
        {
          "data": {
            "text/plain": [
              "{'loss': [4.048998832702637,\n",
              "  1.6083011627197266,\n",
              "  1.0213936567306519,\n",
              "  0.7173259854316711,\n",
              "  0.5371844172477722,\n",
              "  0.42069002985954285,\n",
              "  0.3434891998767853,\n",
              "  0.2896447777748108,\n",
              "  0.24591317772865295,\n",
              "  0.22484943270683289],\n",
              " 'accuracy': [0.12719254195690155,\n",
              "  0.5196529030799866,\n",
              "  0.6855394840240479,\n",
              "  0.7764279246330261,\n",
              "  0.8306422829627991,\n",
              "  0.8649121522903442,\n",
              "  0.8890959620475769,\n",
              "  0.9048154354095459,\n",
              "  0.918002724647522,\n",
              "  0.9260260462760925],\n",
              " 'val_loss': [2.6164491176605225,\n",
              "  1.255160927772522,\n",
              "  0.9141725897789001,\n",
              "  0.6832958459854126,\n",
              "  0.49392154812812805,\n",
              "  0.43799468874931335,\n",
              "  0.2675672769546509,\n",
              "  0.24532867968082428,\n",
              "  0.23985649645328522,\n",
              "  0.2189546674489975],\n",
              " 'val_accuracy': [0.3040063679218292,\n",
              "  0.6637263894081116,\n",
              "  0.735089898109436,\n",
              "  0.7946733236312866,\n",
              "  0.848850429058075,\n",
              "  0.8655247092247009,\n",
              "  0.9194172620773315,\n",
              "  0.9244252443313599,\n",
              "  0.9231163263320923,\n",
              "  0.9276690483093262]}"
            ]
          },
          "execution_count": 61,
          "metadata": {},
          "output_type": "execute_result"
        }
      ],
      "source": [
        "training_history.history #Return Dictionary of history\n"
      ]
    },
    {
      "cell_type": "code",
      "execution_count": 62,
      "metadata": {
        "id": "GdF3Ig4ZBU9V"
      },
      "outputs": [],
      "source": [
        "#Recording History in json\n",
        "import json\n",
        "with open('training_hist.json','w') as f:\n",
        "  json.dump(training_history.history,f)\n"
      ]
    },
    {
      "cell_type": "code",
      "execution_count": 63,
      "metadata": {
        "colab": {
          "base_uri": "https://localhost:8080/"
        },
        "id": "w8PnAYbuCNhu",
        "outputId": "6a5e2ec1-224f-4af4-9416-f8954317f5ba"
      },
      "outputs": [
        {
          "name": "stdout",
          "output_type": "stream",
          "text": [
            "dict_keys(['loss', 'accuracy', 'val_loss', 'val_accuracy'])\n"
          ]
        }
      ],
      "source": [
        "print(training_history.history.keys())\n"
      ]
    },
    {
      "cell_type": "markdown",
      "metadata": {
        "id": "qNIMPXKFEZ5B"
      },
      "source": [
        "## Accuracy Visualization"
      ]
    },
    {
      "cell_type": "code",
      "execution_count": 64,
      "metadata": {
        "colab": {
          "base_uri": "https://localhost:8080/",
          "height": 472
        },
        "id": "gfKdieuJCt3m",
        "outputId": "4d81a94d-884a-452a-fe58-e11c1289dfab"
      },
      "outputs": [
        {
          "data": {
            "image/png": "[encoded data removed]",
            "text/plain": [
              "<Figure size 640x480 with 1 Axes>"
            ]
          },
          "metadata": {},
          "output_type": "display_data"
        }
      ],
      "source": [
        "epochs = [i for i in range(1,11)]\n",
        "plt.plot(epochs,training_history.history['accuracy'],color='red',label='Training Accuracy')\n",
        "plt.plot(epochs,training_history.history['val_accuracy'],color='blue',label='Validation Accuracy')\n",
        "plt.xlabel('No. of Epochs')\n",
        "plt.title('Visualization of Accuracy Result')\n",
        "plt.legend()\n",
        "plt.show()\n"
      ]
    },
    {
      "cell_type": "code",
      "execution_count": 64,
      "metadata": {
        "id": "MmHXzT0PAiOn"
      },
      "outputs": [],
      "source": []
    },
    {
      "cell_type": "markdown",
      "metadata": {
        "id": "tqSTPMZXmsc5"
      },
      "source": [
        "## Some other metrics for model evaluation"
      ]
    },
    {
      "cell_type": "code",
      "execution_count": 65,
      "metadata": {
        "id": "TRFezv3Nmsc5"
      },
      "outputs": [],
      "source": [
        "class_name = validation_set.class_names\n"
      ]
    },
    {
      "cell_type": "code",
      "execution_count": 66,
      "metadata": {
        "colab": {
          "base_uri": "https://localhost:8080/"
        },
        "id": "UPikQKKzywFx",
        "outputId": "7f60653a-6b59-419d-8252-5e294ea163e3"
      },
      "outputs": [
        {
          "data": {
            "text/plain": [
              "38"
            ]
          },
          "execution_count": 66,
          "metadata": {},
          "output_type": "execute_result"
        }
      ],
      "source": [
        "len(class_name)\n"
      ]
    },
    {
      "cell_type": "code",
      "execution_count": 67,
      "metadata": {
        "colab": {
          "base_uri": "https://localhost:8080/"
        },
        "id": "uCX4-3_CwXqz",
        "outputId": "7029b12c-3e16-4abd-e634-1d81e2461aff"
      },
      "outputs": [
        {
          "name": "stdout",
          "output_type": "stream",
          "text": [
            "/content\n"
          ]
        }
      ],
      "source": [
        "!pwd\n"
      ]
    },
    {
      "cell_type": "code",
      "execution_count": 68,
      "metadata": {
        "colab": {
          "base_uri": "https://localhost:8080/"
        },
        "id": "dfFIBpqamsc5",
        "outputId": "700d6d3e-f025-4a61-dc14-753b29b1d818"
      },
      "outputs": [
        {
          "name": "stdout",
          "output_type": "stream",
          "text": [
            "Found 33 files belonging to 1 classes.\n"
          ]
        }
      ],
      "source": [
        "test_set = utils.image_dataset_from_directory(\n",
        "    'test',\n",
        "    labels=\"inferred\",\n",
        "    label_mode=\"categorical\",\n",
        "    class_names=None,\n",
        "    color_mode=\"rgb\",\n",
        "    batch_size=1,\n",
        "    image_size=(128, 128),\n",
        "    shuffle=False,\n",
        "    seed=None,\n",
        "    validation_split=None,\n",
        "    subset=None,\n",
        "    interpolation=\"bilinear\",\n",
        "    follow_links=False,\n",
        "    crop_to_aspect_ratio=False\n",
        ")\n"
      ]
    },
    {
      "cell_type": "code",
      "execution_count": 68,
      "metadata": {
        "id": "wDZjIdG_msc5"
      },
      "outputs": [],
      "source": []
    },
    {
      "cell_type": "code",
      "execution_count": 69,
      "metadata": {
        "colab": {
          "base_uri": "https://localhost:8080/"
        },
        "id": "Em4gHRRImsc5",
        "outputId": "98979805-c598-4f7b-87c4-3e759b7475e9"
      },
      "outputs": [
        {
          "name": "stdout",
          "output_type": "stream",
          "text": [
            "33/33 [==============================] - 0s 2ms/step\n"
          ]
        }
      ],
      "source": [
        "y_pred = cnn.predict(test_set)\n",
        "predicted_categories = tf.argmax(y_pred, axis=1)\n"
      ]
    },
    {
      "cell_type": "code",
      "execution_count": 70,
      "metadata": {
        "id": "KCL61NHHmsc6"
      },
      "outputs": [],
      "source": [
        "true_categories = tf.concat([y for x, y in test_set], axis=0)\n",
        "Y_true = tf.argmax(true_categories, axis=1)\n"
      ]
    },
    {
      "cell_type": "code",
      "execution_count": 71,
      "metadata": {
        "colab": {
          "base_uri": "https://localhost:8080/"
        },
        "id": "UdwYVLM-msc6",
        "outputId": "97001433-ae68-4270-a58f-af5ab851573f"
      },
      "outputs": [
        {
          "data": {
            "text/plain": [
              "<tf.Tensor: shape=(33,), dtype=int64, numpy=\n",
              "array([0, 0, 0, 0, 0, 0, 0, 0, 0, 0, 0, 0, 0, 0, 0, 0, 0, 0, 0, 0, 0, 0,\n",
              "       0, 0, 0, 0, 0, 0, 0, 0, 0, 0, 0])>"
            ]
          },
          "execution_count": 71,
          "metadata": {},
          "output_type": "execute_result"
        }
      ],
      "source": [
        "Y_true\n"
      ]
    },
    {
      "cell_type": "code",
      "execution_count": 72,
      "metadata": {
        "colab": {
          "base_uri": "https://localhost:8080/"
        },
        "id": "FtI0wQfLmsc6",
        "outputId": "eabd645a-b78a-4320-a9c8-911c25659150"
      },
      "outputs": [
        {
          "data": {
            "text/plain": [
              "<tf.Tensor: shape=(33,), dtype=int64, numpy=\n",
              "array([ 2,  2,  2, 28,  0,  0, 20,  8,  8,  8, 20, 20, 20, 20, 20, 22, 22,\n",
              "       29, 29, 35, 29, 29, 29, 37, 37, 37, 37, 35, 35, 35, 35, 35, 35])>"
            ]
          },
          "execution_count": 72,
          "metadata": {},
          "output_type": "execute_result"
        }
      ],
      "source": [
        "predicted_categories\n"
      ]
    },
    {
      "cell_type": "code",
      "execution_count": 72,
      "metadata": {
        "id": "iy6SWGlNmsc6"
      },
      "outputs": [],
      "source": []
    },
    {
      "cell_type": "code",
      "execution_count": 73,
      "metadata": {
        "id": "m7j5gcSGmsc6"
      },
      "outputs": [],
      "source": [
        "from sklearn.metrics import confusion_matrix,classification_report\n",
        "cm = confusion_matrix(Y_true,predicted_categories)\n"
      ]
    },
    {
      "cell_type": "code",
      "execution_count": 74,
      "metadata": {
        "colab": {
          "base_uri": "https://localhost:8080/"
        },
        "id": "ZkiPaEfhw6S7",
        "outputId": "370de936-69a5-4249-94a5-192fcd6b2ed2"
      },
      "outputs": [
        {
          "data": {
            "text/plain": [
              "33"
            ]
          },
          "execution_count": 74,
          "metadata": {},
          "output_type": "execute_result"
        }
      ],
      "source": [
        "len(Y_true)\n"
      ]
    },
    {
      "cell_type": "code",
      "execution_count": 75,
      "metadata": {
        "colab": {
          "base_uri": "https://localhost:8080/"
        },
        "id": "Ilg6kPHZxJXU",
        "outputId": "c8553e00-c75f-4ad6-81ae-9fd73e0dd8ee"
      },
      "outputs": [
        {
          "data": {
            "text/plain": [
              "33"
            ]
          },
          "execution_count": 75,
          "metadata": {},
          "output_type": "execute_result"
        }
      ],
      "source": [
        "len(predicted_categories)\n"
      ]
    },
    {
      "cell_type": "code",
      "execution_count": 76,
      "metadata": {
        "id": "s0Nv0BhXmsc6"
      },
      "outputs": [],
      "source": [
        "# # Precision Recall Fscore\n",
        "# print(classification_report(Y_true,predicted_categories,target_names=class_name))\n"
      ]
    },
    {
      "cell_type": "markdown",
      "metadata": {
        "id": "aiET_fKdmsc7"
      },
      "source": [
        "### Confusion Matrix Visualization"
      ]
    },
    {
      "cell_type": "code",
      "execution_count": 77,
      "metadata": {
        "colab": {
          "base_uri": "https://localhost:8080/",
          "height": 1000
        },
        "id": "i21EGsO4msc7",
        "outputId": "735fb3b9-3e35-4646-c79a-b2ddf165e0fe"
      },
      "outputs": [
        {
          "data": {
            "image/png": "[encoded data removed]",
            "text/plain": [
              "<Figure size 4000x4000 with 2 Axes>"
            ]
          },
          "metadata": {},
          "output_type": "display_data"
        }
      ],
      "source": [
        "plt.figure(figsize=(40, 40))\n",
        "sns.heatmap(cm,annot=True,annot_kws={\"size\": 10})\n",
        "\n",
        "plt.xlabel('Predicted Class',fontsize = 20)\n",
        "plt.ylabel('Actual Class',fontsize = 20)\n",
        "plt.title('Plant Disease Prediction Confusion Matrix',fontsize = 25)\n",
        "plt.show()\n"
      ]
    },
    {
      "cell_type": "code",
      "execution_count": 77,
      "metadata": {
        "id": "EYeMux3dmsc7"
      },
      "outputs": [],
      "source": []
    }
  ],
  "metadata": {
    "accelerator": "GPU",
    "colab": {
      "gpuType": "T4",
      "provenance": []
    },
    "kernelspec": {
      "display_name": "Python 3",
      "name": "python3"
    },
    "language_info": {
      "codemirror_mode": {
        "name": "ipython",
        "version": 3
      },
      "file_extension": ".py",
      "mimetype": "text/x-python",
      "name": "python",
      "nbconvert_exporter": "python",
      "pygments_lexer": "ipython3",
      "version": "3.11.8"
    }
  },
  "nbformat": 4,
  "nbformat_minor": 0
}
