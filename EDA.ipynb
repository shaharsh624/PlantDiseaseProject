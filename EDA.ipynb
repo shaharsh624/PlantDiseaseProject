{
 "cells": [
  {
   "cell_type": "markdown",
   "id": "741ab484",
   "metadata": {},
   "source": [
    "# Imports"
   ]
  },
  {
   "cell_type": "code",
   "execution_count": 3,
   "id": "163fbe7d-82e2-4627-ae30-7eda892b7d2e",
   "metadata": {},
   "outputs": [],
   "source": [
    "import os\n",
    "import sys\n",
    "import pandas as pd\n",
    "import numpy as np\n",
    "import matplotlib.pyplot as plt\n",
    "import seaborn as sns\n",
    "import cv2\n",
    "\n",
    "from glob import glob\n",
    "from pprint import pprint\n",
    "from collections import defaultdict\n",
    "import gc"
   ]
  },
  {
   "cell_type": "markdown",
   "id": "3f843fc8",
   "metadata": {},
   "source": [
    "### Images for Training"
   ]
  },
  {
   "cell_type": "code",
   "execution_count": 20,
   "id": "8ef08980",
   "metadata": {},
   "outputs": [
    {
     "name": "stdout",
     "output_type": "stream",
     "text": [
      "Total number of images for training: 70295\n"
     ]
    }
   ],
   "source": [
    "image_directory_train = 'data\\\\train\\\\'\n",
    "subdirectories = glob(image_directory_train + '*/')\n",
    "train_images = []\n",
    "for subdirectory in subdirectories:\n",
    "    train_images += glob(subdirectory + '*.JPG')\n",
    "print(f'Total number of images for training: {len(train_images)}')\n"
   ]
  },
  {
   "cell_type": "markdown",
   "id": "55f1a2d7",
   "metadata": {},
   "source": [
    "### Images for Validation"
   ]
  },
  {
   "cell_type": "code",
   "execution_count": 23,
   "id": "c06ddfc4-eb8a-411e-b6a2-36fe660e22e9",
   "metadata": {},
   "outputs": [
    {
     "name": "stdout",
     "output_type": "stream",
     "text": [
      "Total number of images for validation: 17572\n"
     ]
    }
   ],
   "source": [
    "image_directory_valid = 'data\\\\valid\\\\'\n",
    "subdirectories = glob(image_directory_valid + '*/')\n",
    "valid_images = []\n",
    "for subdirectory in subdirectories:\n",
    "    valid_images += glob(subdirectory + '*.JPG')\n",
    "print(f'Total number of images for validation: {len(valid_images)}')\n"
   ]
  },
  {
   "cell_type": "markdown",
   "id": "dcc308ea",
   "metadata": {},
   "source": [
    "### Images for Testing"
   ]
  },
  {
   "cell_type": "code",
   "execution_count": 24,
   "id": "271bdc8e",
   "metadata": {},
   "outputs": [
    {
     "name": "stdout",
     "output_type": "stream",
     "text": [
      "Total number of images for testing: 760\n"
     ]
    }
   ],
   "source": [
    "image_directory_test = 'data\\\\test\\\\'\n",
    "subdirectories = glob(image_directory_test + '*/')\n",
    "test_images = []\n",
    "for subdirectory in subdirectories:\n",
    "    test_images += glob(subdirectory + '*.JPG')\n",
    "print(f'Total number of images for testing: {len(test_images)}')\n"
   ]
  },
  {
   "cell_type": "code",
   "execution_count": 25,
   "id": "cd1d4884",
   "metadata": {},
   "outputs": [
    {
     "name": "stdout",
     "output_type": "stream",
     "text": [
      "Length of Dataset: 88627 images\n"
     ]
    }
   ],
   "source": [
    "print(f\"Length of Dataset: {len(train_images) + len(valid_images) + len(test_images)} images\")"
   ]
  }
 ],
 "metadata": {
  "kernelspec": {
   "display_name": "Python 3 (ipykernel)",
   "language": "python",
   "name": "python3"
  },
  "language_info": {
   "codemirror_mode": {
    "name": "ipython",
    "version": 3
   },
   "file_extension": ".py",
   "mimetype": "text/x-python",
   "name": "python",
   "nbconvert_exporter": "python",
   "pygments_lexer": "ipython3",
   "version": "3.11.8"
  }
 },
 "nbformat": 4,
 "nbformat_minor": 5
}
